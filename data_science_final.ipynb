{
 "cells": [
  {
   "cell_type": "markdown",
   "metadata": {},
   "source": [
    "# Ranking Artists/Bands through analysis of yearly Top 100 Songs using Wikipedia web scrapping from years 1970 to 2018 "
   ]
  },
  {
   "cell_type": "markdown",
   "metadata": {},
   "source": [
    "### Participant- Pavleen Kaur"
   ]
  },
  {
   "cell_type": "markdown",
   "metadata": {},
   "source": [
    "# Table of Contents\n",
    "* Motivation\n",
    "* Task Definition\n",
    "* Input\n",
    "* Output\n",
    "* Data set\n",
    "    * Collection\n",
    "    * Metadata\n",
    "* Scrapping Wikipedia \n",
    "* Data Parsing and Clean-up\n",
    "  * Complexity of Data\n",
    "  * Case of Missing Values\n",
    "* Data Statistics and Interpretation\n",
    "* Visualisation\n",
    "    * Plot\n",
    "    * Observations from Visualisation\n",
    "    * Handling Outliers\n",
    "* Feature engineering for alternate visualisation\n",
    "* Conclusion\n",
    "* Literature Review\n",
    "\n",
    "\n",
    " "
   ]
  },
  {
   "cell_type": "markdown",
   "metadata": {},
   "source": [
    "# Motivation\n",
    "\n",
    "Wikipedia is a big source of information on a wide range of topics including chronological details of events such as historical. Wikipedia is one of my go to source for any query on topics of interest. Finding the information particularly wikitables, a good source of data for analysis, I have chosen to utilize following concepts on the wikipedia top 100 songs list for years 1970 to 2018:\n",
    "1. Web scrapping\n",
    "2. Data Parsing and Data Clean-up\n",
    "3. Dataframe and handling complexity of data\n",
    "4. Data Visualisation\n",
    "5. Feature Engineering\n",
    "\n",
    "The initial challenge in the project has been to extrapolate the data wrangling from one wikipage in a manner consistent with ability to generalise the scrapping procedure and data handling from all pages. Secondly, the size and variety of information (e.g. links to more pages and information) presented an initial challenge to decide what data to include in data wrangling and features to be engineered. \n"
   ]
  },
  {
   "cell_type": "markdown",
   "metadata": {},
   "source": [
    "### Task definition\n",
    "I intend to determine rank of artist(s)/bands based on their number of songs featured in the top 100 singles song list over the years of analysis (1970 to 2018) e.g. artists whose songs have been featured more than 20 times in the list.\n",
    "\n",
    "I also intend to perform Feature engineering to determine ranks of artist(s)/bands through alternate analysis.\n",
    "\n",
    "\n",
    "\n",
    "\n",
    "\n"
   ]
  },
  {
   "attachments": {},
   "cell_type": "markdown",
   "metadata": {},
   "source": [
    "### Input\n",
    "[Song Ranking, Song name, Artist(s)/band, URLS of Singer/Band,url of song] through web scrapping 38 pages  to extract wikitables for Top 100 songs/year from 1970 to 2018\n",
    "\n",
    "### Output\n",
    "1. Bar plot indicating ranks of artists based on number of their songs in the list \n",
    "2. Bar plot indicating scores of artists based on feature engineering\n"
   ]
  },
  {
   "cell_type": "markdown",
   "metadata": {},
   "source": [
    "### Dataset\n",
    "\n",
    "How data was collected?\n",
    "\n",
    "I have performed web scrapping of wikipedia websites of Top 100 singles songs to extract wikitables. \n",
    "\n",
    "Why data was collected?\n",
    "\n",
    "Data was collected to obtain a comprehensive information source containing relevant information which can be utitilzed to answer the question. Also, information structure and access to more information through wikipedia links made it a choice to add more features.\n",
    "\n"
   ]
  },
  {
   "cell_type": "markdown",
   "metadata": {},
   "source": [
    "### Metadata\n",
    "\n",
    "1. `Source`: Wikipedia e.g. https://en.wikipedia.org/wiki/List_of_Billboard_Hot_100_number-one_singles_of_1970\n",
    "2. `Years` of data scrapped: 1970 to 2018 (>=100 singles/year)\n",
    "3. `ranking`: rank of every song in the list e.g. 1,2,3,........upto 100\n",
    "4. `band_singer`: name of artist(s)/band e.g. 'Apollo 100'\n",
    "5. `song`: name of song(s) featured in the list e.g. 'Joy'\n",
    "6. `songurl`: url of the song e.g. '/wiki/Foolish_Games', None\n",
    "7. `url`: url of the artist(s)/band e.g. '/wiki/Apollo_100'\n"
   ]
  },
  {
   "cell_type": "code",
   "execution_count": 89,
   "metadata": {},
   "outputs": [],
   "source": [
    "%matplotlib inline\n",
    "import numpy as np\n",
    "import scipy as sp\n",
    "import matplotlib as mpl\n",
    "import matplotlib.cm as cm\n",
    "import matplotlib.pyplot as plt\n",
    "import pandas as pd\n",
    "import time\n",
    "pd.set_option('display.width', 500)\n",
    "pd.set_option('display.max_columns', 100)\n",
    "pd.set_option('display.notebook_repr_html', True)\n",
    "import seaborn as sns\n",
    "sns.set_style(\"whitegrid\")\n",
    "sns.set_context(\"poster\")"
   ]
  },
  {
   "cell_type": "markdown",
   "metadata": {},
   "source": [
    "##  Scraping Wikipedia "
   ]
  },
  {
   "cell_type": "markdown",
   "metadata": {},
   "source": [
    "First, I perform scrapping of top 100 songs from Wikipedia to extract wikitable using BeautifulSoup and Python's requests library to fetch web page."
   ]
  },
  {
   "cell_type": "markdown",
   "metadata": {},
   "source": [
    "####  Parsing the Top 100 Wikipedia page for year 1970"
   ]
  },
  {
   "cell_type": "markdown",
   "metadata": {},
   "source": [
    "Obtaining the web page at http://en.wikipedia.org/wiki/Billboard_Year-End_Hot_100_singles_of_1970 and extracting the top 100 singles and their rankings. I create a list of dictionaries, 100 of them, with entries like \n",
    "\n",
    "`{'band_singer': 'The Guess Who\\n','ranking': 3, 'title': '\"American Woman\"', 'url': '/wiki/The_Guess_Who'}`\n",
    "\n",
    "`{'band_singer': 'B.J. Thomas\\n','ranking': 4, 'title': '\"Raindrops Keep Fallin\\' on My Head\"','url': '/wiki/B.J._Thomas'}`"
   ]
  },
  {
   "cell_type": "code",
   "execution_count": 2,
   "metadata": {},
   "outputs": [],
   "source": [
    "from bs4 import BeautifulSoup\n",
    "import requests"
   ]
  },
  {
   "cell_type": "code",
   "execution_count": 3,
   "metadata": {},
   "outputs": [
    {
     "data": {
      "text/plain": [
       "<Response [200]>"
      ]
     },
     "execution_count": 3,
     "metadata": {},
     "output_type": "execute_result"
    }
   ],
   "source": [
    "# I access the webpage and download the content using requests\n",
    "year1970=requests.get(\"http://en.wikipedia.org/wiki/Billboard_Year-End_Hot_100_singles_of_1970\")\n",
    "year1970"
   ]
  },
  {
   "cell_type": "code",
   "execution_count": 7,
   "metadata": {},
   "outputs": [],
   "source": [
    "# I use the request object that was previously created to create a BeautifulSoup element\n",
    "soup = BeautifulSoup(year1970.text, \"html.parser\")\n",
    "\n",
    "# In this line I find a single \"table\" element with a class of wikitable;\n",
    "# and then looking for all the \"tr\" elements indicating the row elements on that table\n",
    "rows = soup.find(\"table\", attrs={\"class\": \"wikitable\"}).find_all(\"tr\")[1:]\n",
    "\n",
    "# I define a function to work upon each column's element in each row in the table\n",
    "def function_on_each_column_element(r):\n",
    "    ranking = int(r[0].get_text())\n",
    "    title = r[1].get_text()\n",
    "    band_singer = r[2].get_text()\n",
    "    url = r[2].find(\"a\").get(\"href\")\n",
    "    return [ranking, title, band_singer, url]\n",
    "\n",
    "\n",
    "# I create a list of names that will be used as dictionary keys to\n",
    "# save information extracted by running the above function\n",
    "fields = [\"ranking\", \"title\", \"band_singer\", \"url\"]\n",
    "\n",
    "# I use the function_on_each_column_element to work on each \"td\" element on a given row\n",
    "# It gives band information\n",
    "# The zip function creates a list of pairs further used by dict function \n",
    "# to create a dictionary, the first element of the pair is the key and the second is\n",
    "# the value; and finally, the list comprehension iterates over each row element, and puts\n",
    "# the result of each iteration on a list, which is then bound to the songs variable.\n",
    "songs = [dict(zip(fields,function_on_each_column_element(row.find_all(\"td\")))) for row in rows]"
   ]
  },
  {
   "cell_type": "code",
   "execution_count": 9,
   "metadata": {},
   "outputs": [
    {
     "data": {
      "text/plain": [
       "[{'band_singer': 'Simon & Garfunkel\\n',\n",
       "  'ranking': 1,\n",
       "  'title': '\"Bridge Over Troubled Water\"',\n",
       "  'url': '/wiki/Simon_%26_Garfunkel'},\n",
       " {'band_singer': 'The Carpenters\\n',\n",
       "  'ranking': 2,\n",
       "  'title': '\"(They Long to Be) Close to You\"',\n",
       "  'url': '/wiki/The_Carpenters'},\n",
       " {'band_singer': 'The Guess Who\\n',\n",
       "  'ranking': 3,\n",
       "  'title': '\"American Woman\"',\n",
       "  'url': '/wiki/The_Guess_Who'},\n",
       " {'band_singer': 'B.J. Thomas\\n',\n",
       "  'ranking': 4,\n",
       "  'title': '\"Raindrops Keep Fallin\\' on My Head\"',\n",
       "  'url': '/wiki/B.J._Thomas'},\n",
       " {'band_singer': 'Edwin Starr\\n',\n",
       "  'ranking': 5,\n",
       "  'title': '\"War\"',\n",
       "  'url': '/wiki/Edwin_Starr'}]"
      ]
     },
     "execution_count": 9,
     "metadata": {},
     "output_type": "execute_result"
    }
   ],
   "source": [
    "# Sample of information in songs\n",
    "songs[0:5]"
   ]
  },
  {
   "cell_type": "markdown",
   "metadata": {},
   "source": [
    "#### Generalizing the previous scrape  for Wikipedia pages from 1970 to 2018"
   ]
  },
  {
   "cell_type": "markdown",
   "metadata": {},
   "source": [
    "By visiting the urls similar to the ones mentioned previously, I obtain the top 100 songs data for all years (using range) and saving text from those requests in a dictionary called `allyears`. This dictionary has keys as the years (integers from 1970 to 2018), and  values corresponding to these keys as the text of the page being fetched.The time.sleep of one second is used is used to fetch each page."
   ]
  },
  {
   "cell_type": "code",
   "execution_count": 10,
   "metadata": {},
   "outputs": [
    {
     "name": "stdout",
     "output_type": "stream",
     "text": [
      "range(1970, 2019)\n",
      "1970\n",
      "1971\n",
      "1972\n",
      "1973\n",
      "1974\n",
      "1975\n",
      "1976\n",
      "1977\n",
      "1978\n",
      "1979\n",
      "1980\n",
      "1981\n",
      "1982\n",
      "1983\n",
      "1984\n",
      "1985\n",
      "1986\n",
      "1987\n",
      "1988\n",
      "1989\n",
      "1990\n",
      "1991\n",
      "1992\n",
      "1993\n",
      "1994\n",
      "1995\n",
      "1996\n",
      "1997\n",
      "1998\n",
      "1999\n",
      "2000\n",
      "2001\n",
      "2002\n",
      "2003\n",
      "2004\n",
      "2005\n",
      "2006\n",
      "2007\n",
      "2008\n",
      "2009\n",
      "2010\n",
      "2011\n",
      "2012\n",
      "2013\n",
      "2014\n",
      "2015\n",
      "2016\n",
      "2017\n",
      "2018\n"
     ]
    }
   ],
   "source": [
    "#code\n",
    "years=range(1970, 2019)\n",
    "print(years)\n",
    "allyears={}\n",
    "for y in years:\n",
    "    print(y)\n",
    "    yreq=requests.get(\"http://en.wikipedia.org/wiki/Billboard_Year-End_Hot_100_singles_of_%i\" % y)\n",
    "    allyears[y]=yreq.text\n",
    "    time.sleep(1)"
   ]
  },
  {
   "cell_type": "markdown",
   "metadata": {},
   "source": [
    "#### Parsing and Data Cleaning"
   ]
  },
  {
   "cell_type": "markdown",
   "metadata": {},
   "source": [
    "In code for one year i.e. 1970, a list of dictionaries, one corresponding to each single was produced. For all years' data, I write a function `parse_year(the_year, allyears_dict)` which inputs year, prints it out, gets the text for the year from the just created `allyears` dictionary, and returns a list of dictionaries for that year, with one dictionary for each single. "
   ]
  },
  {
   "cell_type": "markdown",
   "metadata": {},
   "source": [
    "The spec of Function explained"
   ]
  },
  {
   "cell_type": "code",
   "execution_count": null,
   "metadata": {},
   "outputs": [],
   "source": [
    "\"\"\"\n",
    "Function\n",
    "--------\n",
    "parse_year\n",
    "\n",
    "Inputs\n",
    "------\n",
    "the_year: the year I want the singles for\n",
    "allyears_dict: dictionary keys- integer years, values- the downloaded web pages \n",
    "    from wikipedia for that year.\n",
    "   \n",
    "Returns\n",
    "-------\n",
    "\n",
    "a list of dictionaries, each of which corresponds to a single and has the\n",
    "following data:\n",
    "\n",
    "Eg:\n",
    "\n",
    "{'band_singer': ['Brandy', 'Monica'],\n",
    "  'ranking': 2,\n",
    "  'song': ['The Boy Is Mine'],\n",
    "  'songurl': ['/wiki/The_Boy_Is_Mine_(song)'],\n",
    "  'titletext': '\" The Boy Is Mine \"',\n",
    "  'url': ['/wiki/Brandy_Norwood', '/wiki/Monica_(entertainer)']}\n",
    "  \n",
    "A dictionary with the following data:\n",
    "    band_singer: a list of bands/singers who made this single\n",
    "    song: a list of the titles of songs on this single\n",
    "    songurl: a list of the same size as song which has urls for the songs on the single \n",
    "    ranking: ranking of the single\n",
    "    titletext: the contents of the table cell\n",
    "    band_singer: a list of bands or singers on this single\n",
    "    url: a list of wikipedia singer/band urls on this single: only part \n",
    "        of the url from /wiki onwards\n",
    "    \n",
    "\n",
    "\n",
    "-----\n",
    "\n",
    "\"\"\""
   ]
  },
  {
   "cell_type": "markdown",
   "metadata": {},
   "source": [
    "#### Complexity of Data\n",
    "\n",
    "Some singles had multiple songs:\n",
    "\n",
    "```\n",
    "{'band_singer': ['Jewel'],\n",
    "  'ranking': 2,\n",
    "  'song': ['Foolish Games', 'You Were Meant for Me'],\n",
    "  'songurl': ['/wiki/Foolish_Games',\n",
    "   '/wiki/You_Were_Meant_for_Me_(Jewel_song)'],\n",
    "  'titletext': '\" Foolish Games \" / \" You Were Meant for Me \"',\n",
    "  'url': ['/wiki/Jewel_(singer)']}\n",
    "```"
   ]
  },
  {
   "cell_type": "markdown",
   "metadata": {},
   "source": [
    "### Case of missing values\n",
    "\n",
    "Some singles did not have a song URL:\n",
    "\n",
    "```\n",
    "{'band_singer': [u'Nu Flavor'],\n",
    "  'ranking': 91,\n",
    "  'song': [u'Heaven'],\n",
    "  'songurl': [None],\n",
    "  'titletext': u'\"Heaven\"',\n",
    "  'url': [u'/wiki/Nu_Flavor']}\n",
    "```\n",
    "To address this, I set songurl to [None] and the song name to the contents of the table cell with the quotes stripped (titletext stripped of its quotes)"
   ]
  },
  {
   "cell_type": "markdown",
   "metadata": {},
   "source": [
    "There were more than one `band_singer`(sometimes with a comma, sometimes with \"featuring\" in between)\n",
    "To parse these, I looked at their urls.\n",
    "\n",
    "```\n",
    "{'band_singer': ['Puff Daddy', 'Faith Evans', '112'],\n",
    "  'ranking': 3,\n",
    "  'song': [\"I'll Be Missing You\"],\n",
    "  'songurl': ['/wiki/I%27ll_Be_Missing_You'],\n",
    "  'titletext': '\" I\\'ll Be Missing You \"',\n",
    "  'url': ['/wiki/Sean_Combs', '/wiki/Faith_Evans', '/wiki/112_(band)']}\n",
    " ```\n"
   ]
  },
  {
   "cell_type": "markdown",
   "metadata": {},
   "source": [
    "The `titletext` retained the quotes that Wikipedia puts on the single\n"
   ]
  },
  {
   "cell_type": "markdown",
   "metadata": {},
   "source": [
    "All the issues mentioned above were addressed by the function below"
   ]
  },
  {
   "cell_type": "code",
   "execution_count": 17,
   "metadata": {},
   "outputs": [],
   "source": [
    "# Function code\n",
    "\n",
    "fields = [\"ranking\", \"song\", \"songurl\", \"titletext\", \"band_singer\", \"url\"]\n",
    "\n",
    "# Helper functions.\n",
    "def get_cols(row):\n",
    "    return row.find_all(\"th\") + row.find_all(\"td\")\n",
    "\n",
    "def break_a(col):\n",
    "    return list(map(list, zip(*[(a.get(\"title\").strip('\"'), a.get(\"href\")) for a in col.find_all(\"a\")]))) \\\n",
    "            or [[col.get_text().strip('\"')], [None]]\n",
    "    \n",
    "def parse_cols(cols):\n",
    "    return [int(cols[0].get_text())] + break_a(cols[1]) + [cols[1].get_text()] + break_a(cols[2])\n",
    "\n",
    "def create_dict(cols):\n",
    "    return dict(zip(fields, cols))\n",
    "\n",
    "# Parser function.\n",
    "def parse_year(year, allyears):\n",
    "    soup = BeautifulSoup(allyears[year], 'html.parser')\n",
    "    rows = soup.find(\"table\", attrs={\"class\": \"wikitable\"}).find_all(\"tr\")[1:]\n",
    "    return [create_dict(parse_cols(get_cols(row))) for row in rows]"
   ]
  },
  {
   "cell_type": "code",
   "execution_count": 26,
   "metadata": {},
   "outputs": [
    {
     "data": {
      "text/plain": [
       "{'band_singer': ['Apollo 100'],\n",
       " 'ranking': 71,\n",
       " 'song': ['Joy'],\n",
       " 'songurl': [None],\n",
       " 'titletext': '\"Joy\"',\n",
       " 'url': ['/wiki/Apollo_100']}"
      ]
     },
     "execution_count": 26,
     "metadata": {},
     "output_type": "execute_result"
    }
   ],
   "source": [
    "#checking function\n",
    "parse_year(1972, allyears)[70]"
   ]
  },
  {
   "cell_type": "code",
   "execution_count": 27,
   "metadata": {},
   "outputs": [],
   "source": [
    "yearinfo = {y:parse_year(y, allyears) for y in years}"
   ]
  },
  {
   "cell_type": "markdown",
   "metadata": {},
   "source": [
    "#### Saving  information scraped to a file"
   ]
  },
  {
   "cell_type": "markdown",
   "metadata": {},
   "source": [
    "To avoid losing data, I created a file to save the data structure, so I can rerun from here without the need to do requests and parsing again."
   ]
  },
  {
   "cell_type": "code",
   "execution_count": 28,
   "metadata": {},
   "outputs": [],
   "source": [
    "import json"
   ]
  },
  {
   "cell_type": "code",
   "execution_count": 101,
   "metadata": {
    "scrolled": false
   },
   "outputs": [],
   "source": [
    "# Please skip this in case of continuing as above\n",
    "fd = open(\"/tmp/yearinfo.json\",\"w\")\n",
    "json.dump(yearinfo, fd)\n",
    "fd.close()\n",
    "del yearinfo"
   ]
  },
  {
   "cell_type": "markdown",
   "metadata": {},
   "source": [
    "Reloading JSON file into the yearinfo variable"
   ]
  },
  {
   "cell_type": "code",
   "execution_count": 102,
   "metadata": {
    "scrolled": true
   },
   "outputs": [],
   "source": [
    "# Can be rerun if step above not skipped\n",
    "with open(\"/tmp/yearinfo.json\", \"r\") as fd:\n",
    "    yearinfo = json.load(fd)"
   ]
  },
  {
   "cell_type": "code",
   "execution_count": 76,
   "metadata": {},
   "outputs": [],
   "source": [
    "#yearinfo"
   ]
  },
  {
   "cell_type": "markdown",
   "metadata": {},
   "source": [
    "#### Construction of a dataframe from yearly information"
   ]
  },
  {
   "cell_type": "markdown",
   "metadata": {},
   "source": [
    "I now construct a dataframe `flatframe` from the `yearinfo`with each row of the frame representing a song with the properties of year, song, singer, and ranking. To construct the dataframe, I iterate over the years and the singles per year. \n",
    "\n",
    "\n",
    "\n"
   ]
  },
  {
   "cell_type": "code",
   "execution_count": 103,
   "metadata": {},
   "outputs": [
    {
     "name": "stderr",
     "output_type": "stream",
     "text": [
      "/usr/lib/python3/dist-packages/ipykernel_launcher.py:18: DeprecationWarning: \n",
      "Panel is deprecated and will be removed in a future version.\n",
      "The recommended way to represent these types of 3-dimensional data are with a MultiIndex on a DataFrame, via the Panel.to_frame() method\n",
      "Alternatively, you can use the xarray package http://xarray.pydata.org/en/stable/.\n",
      "Pandas provides a `.to_xarray()` method to help automate this conversion.\n",
      "\n"
     ]
    },
    {
     "data": {
      "text/html": [
       "<div>\n",
       "<style scoped>\n",
       "    .dataframe tbody tr th:only-of-type {\n",
       "        vertical-align: middle;\n",
       "    }\n",
       "\n",
       "    .dataframe tbody tr th {\n",
       "        vertical-align: top;\n",
       "    }\n",
       "\n",
       "    .dataframe thead th {\n",
       "        text-align: right;\n",
       "    }\n",
       "</style>\n",
       "<table border=\"1\" class=\"dataframe\">\n",
       "  <thead>\n",
       "    <tr style=\"text-align: right;\">\n",
       "      <th></th>\n",
       "      <th></th>\n",
       "      <th>band_singer</th>\n",
       "      <th>ranking</th>\n",
       "      <th>song</th>\n",
       "      <th>songurl</th>\n",
       "      <th>url</th>\n",
       "    </tr>\n",
       "    <tr>\n",
       "      <th>major</th>\n",
       "      <th>minor</th>\n",
       "      <th></th>\n",
       "      <th></th>\n",
       "      <th></th>\n",
       "      <th></th>\n",
       "      <th></th>\n",
       "    </tr>\n",
       "  </thead>\n",
       "  <tbody>\n",
       "    <tr>\n",
       "      <th rowspan=\"5\" valign=\"top\">0</th>\n",
       "      <th>1970</th>\n",
       "      <td>Simon &amp; Garfunkel</td>\n",
       "      <td>1.0</td>\n",
       "      <td>Bridge Over Troubled Water (song)</td>\n",
       "      <td>/wiki/Bridge_Over_Troubled_Water_(song)</td>\n",
       "      <td>/wiki/Simon_%26_Garfunkel</td>\n",
       "    </tr>\n",
       "    <tr>\n",
       "      <th>1971</th>\n",
       "      <td>Three Dog Night</td>\n",
       "      <td>1.0</td>\n",
       "      <td>Joy to the World (Hoyt Axton song)</td>\n",
       "      <td>/wiki/Joy_to_the_World_(Hoyt_Axton_song)</td>\n",
       "      <td>/wiki/Three_Dog_Night</td>\n",
       "    </tr>\n",
       "    <tr>\n",
       "      <th>1972</th>\n",
       "      <td>Roberta Flack</td>\n",
       "      <td>1.0</td>\n",
       "      <td>The First Time Ever I Saw Your Face</td>\n",
       "      <td>/wiki/The_First_Time_Ever_I_Saw_Your_Face</td>\n",
       "      <td>/wiki/Roberta_Flack</td>\n",
       "    </tr>\n",
       "    <tr>\n",
       "      <th>1973</th>\n",
       "      <td>Tony Orlando and Dawn</td>\n",
       "      <td>1.0</td>\n",
       "      <td>Tie a Yellow Ribbon Round the Ole Oak Tree</td>\n",
       "      <td>/wiki/Tie_a_Yellow_Ribbon_Round_the_Ole_Oak_Tree</td>\n",
       "      <td>/wiki/Tony_Orlando_and_Dawn</td>\n",
       "    </tr>\n",
       "    <tr>\n",
       "      <th>1974</th>\n",
       "      <td>Barbra Streisand</td>\n",
       "      <td>1.0</td>\n",
       "      <td>The Way We Were (song)</td>\n",
       "      <td>/wiki/The_Way_We_Were_(song)</td>\n",
       "      <td>/wiki/Barbra_Streisand</td>\n",
       "    </tr>\n",
       "  </tbody>\n",
       "</table>\n",
       "</div>"
      ],
      "text/plain": [
       "                       band_singer  ranking                                        song                                           songurl                          url\n",
       "major minor                                                                                                                                                           \n",
       "0     1970       Simon & Garfunkel      1.0           Bridge Over Troubled Water (song)           /wiki/Bridge_Over_Troubled_Water_(song)    /wiki/Simon_%26_Garfunkel\n",
       "      1971         Three Dog Night      1.0          Joy to the World (Hoyt Axton song)          /wiki/Joy_to_the_World_(Hoyt_Axton_song)        /wiki/Three_Dog_Night\n",
       "      1972           Roberta Flack      1.0         The First Time Ever I Saw Your Face         /wiki/The_First_Time_Ever_I_Saw_Your_Face          /wiki/Roberta_Flack\n",
       "      1973   Tony Orlando and Dawn      1.0  Tie a Yellow Ribbon Round the Ole Oak Tree  /wiki/Tie_a_Yellow_Ribbon_Round_the_Ole_Oak_Tree  /wiki/Tony_Orlando_and_Dawn\n",
       "      1974        Barbra Streisand      1.0                      The Way We Were (song)                      /wiki/The_Way_We_Were_(song)       /wiki/Barbra_Streisand"
      ]
     },
     "execution_count": 103,
     "metadata": {},
     "output_type": "execute_result"
    }
   ],
   "source": [
    "yeardict={}\n",
    "for y in yearinfo.keys():\n",
    "    yearlist=yearinfo[y] # list of singles for year\n",
    "    yearlist2=[]\n",
    "    for singledict in yearlist:\n",
    "        singers=singledict['band_singer']\n",
    "        for i, singer in enumerate(singers):\n",
    "            songs=singledict['song'] # one or more songs per single\n",
    "            for j, song in enumerate(songs): # each singer song combination\n",
    "                nd={}\n",
    "                nd['band_singer'] = singer\n",
    "                nd['url'] = singledict['url'][i]\n",
    "                nd['song'] = song\n",
    "                nd['songurl'] = singledict['songurl'][j]\n",
    "                nd['ranking'] = singledict['ranking']\n",
    "                yearlist2.append(nd)\n",
    "    yeardict[y]=pd.DataFrame(yearlist2) # one for each year\n",
    "yearspanel=pd.Panel.from_dict(yeardict, orient=\"minor\") # dataframes in a panel\n",
    "hierframe=yearspanel.to_frame() # flattening giving rise to hierarchical index\n",
    "hierframe.head()"
   ]
  },
  {
   "cell_type": "code",
   "execution_count": 107,
   "metadata": {},
   "outputs": [
    {
     "data": {
      "text/html": [
       "<div>\n",
       "<style scoped>\n",
       "    .dataframe tbody tr th:only-of-type {\n",
       "        vertical-align: middle;\n",
       "    }\n",
       "\n",
       "    .dataframe tbody tr th {\n",
       "        vertical-align: top;\n",
       "    }\n",
       "\n",
       "    .dataframe thead th {\n",
       "        text-align: right;\n",
       "    }\n",
       "</style>\n",
       "<table border=\"1\" class=\"dataframe\">\n",
       "  <thead>\n",
       "    <tr style=\"text-align: right;\">\n",
       "      <th></th>\n",
       "      <th>major</th>\n",
       "      <th>minor</th>\n",
       "      <th>band_singer</th>\n",
       "      <th>ranking</th>\n",
       "      <th>song</th>\n",
       "      <th>songurl</th>\n",
       "      <th>url</th>\n",
       "    </tr>\n",
       "  </thead>\n",
       "  <tbody>\n",
       "    <tr>\n",
       "      <th>0</th>\n",
       "      <td>0</td>\n",
       "      <td>1970</td>\n",
       "      <td>Simon &amp; Garfunkel</td>\n",
       "      <td>1.0</td>\n",
       "      <td>Bridge Over Troubled Water (song)</td>\n",
       "      <td>/wiki/Bridge_Over_Troubled_Water_(song)</td>\n",
       "      <td>/wiki/Simon_%26_Garfunkel</td>\n",
       "    </tr>\n",
       "    <tr>\n",
       "      <th>1</th>\n",
       "      <td>0</td>\n",
       "      <td>1971</td>\n",
       "      <td>Three Dog Night</td>\n",
       "      <td>1.0</td>\n",
       "      <td>Joy to the World (Hoyt Axton song)</td>\n",
       "      <td>/wiki/Joy_to_the_World_(Hoyt_Axton_song)</td>\n",
       "      <td>/wiki/Three_Dog_Night</td>\n",
       "    </tr>\n",
       "    <tr>\n",
       "      <th>2</th>\n",
       "      <td>0</td>\n",
       "      <td>1972</td>\n",
       "      <td>Roberta Flack</td>\n",
       "      <td>1.0</td>\n",
       "      <td>The First Time Ever I Saw Your Face</td>\n",
       "      <td>/wiki/The_First_Time_Ever_I_Saw_Your_Face</td>\n",
       "      <td>/wiki/Roberta_Flack</td>\n",
       "    </tr>\n",
       "    <tr>\n",
       "      <th>3</th>\n",
       "      <td>0</td>\n",
       "      <td>1973</td>\n",
       "      <td>Tony Orlando and Dawn</td>\n",
       "      <td>1.0</td>\n",
       "      <td>Tie a Yellow Ribbon Round the Ole Oak Tree</td>\n",
       "      <td>/wiki/Tie_a_Yellow_Ribbon_Round_the_Ole_Oak_Tree</td>\n",
       "      <td>/wiki/Tony_Orlando_and_Dawn</td>\n",
       "    </tr>\n",
       "    <tr>\n",
       "      <th>4</th>\n",
       "      <td>0</td>\n",
       "      <td>1974</td>\n",
       "      <td>Barbra Streisand</td>\n",
       "      <td>1.0</td>\n",
       "      <td>The Way We Were (song)</td>\n",
       "      <td>/wiki/The_Way_We_Were_(song)</td>\n",
       "      <td>/wiki/Barbra_Streisand</td>\n",
       "    </tr>\n",
       "  </tbody>\n",
       "</table>\n",
       "</div>"
      ],
      "text/plain": [
       "   major minor            band_singer  ranking                                        song                                           songurl                          url\n",
       "0      0  1970      Simon & Garfunkel      1.0           Bridge Over Troubled Water (song)           /wiki/Bridge_Over_Troubled_Water_(song)    /wiki/Simon_%26_Garfunkel\n",
       "1      0  1971        Three Dog Night      1.0          Joy to the World (Hoyt Axton song)          /wiki/Joy_to_the_World_(Hoyt_Axton_song)        /wiki/Three_Dog_Night\n",
       "2      0  1972          Roberta Flack      1.0         The First Time Ever I Saw Your Face         /wiki/The_First_Time_Ever_I_Saw_Your_Face          /wiki/Roberta_Flack\n",
       "3      0  1973  Tony Orlando and Dawn      1.0  Tie a Yellow Ribbon Round the Ole Oak Tree  /wiki/Tie_a_Yellow_Ribbon_Round_the_Ole_Oak_Tree  /wiki/Tony_Orlando_and_Dawn\n",
       "4      0  1974       Barbra Streisand      1.0                      The Way We Were (song)                      /wiki/The_Way_We_Were_(song)       /wiki/Barbra_Streisand"
      ]
     },
     "execution_count": 107,
     "metadata": {},
     "output_type": "execute_result"
    }
   ],
   "source": [
    "flatframe = hierframe.reset_index()\n",
    "flatframe.head()"
   ]
  },
  {
   "cell_type": "code",
   "execution_count": 108,
   "metadata": {},
   "outputs": [
    {
     "data": {
      "text/html": [
       "<div>\n",
       "<style scoped>\n",
       "    .dataframe tbody tr th:only-of-type {\n",
       "        vertical-align: middle;\n",
       "    }\n",
       "\n",
       "    .dataframe tbody tr th {\n",
       "        vertical-align: top;\n",
       "    }\n",
       "\n",
       "    .dataframe thead th {\n",
       "        text-align: right;\n",
       "    }\n",
       "</style>\n",
       "<table border=\"1\" class=\"dataframe\">\n",
       "  <thead>\n",
       "    <tr style=\"text-align: right;\">\n",
       "      <th></th>\n",
       "      <th>year</th>\n",
       "      <th>band_singer</th>\n",
       "      <th>ranking</th>\n",
       "      <th>song</th>\n",
       "      <th>songurl</th>\n",
       "      <th>url</th>\n",
       "    </tr>\n",
       "  </thead>\n",
       "  <tbody>\n",
       "    <tr>\n",
       "      <th>0</th>\n",
       "      <td>1970</td>\n",
       "      <td>Simon &amp; Garfunkel</td>\n",
       "      <td>1.0</td>\n",
       "      <td>Bridge Over Troubled Water (song)</td>\n",
       "      <td>/wiki/Bridge_Over_Troubled_Water_(song)</td>\n",
       "      <td>/wiki/Simon_%26_Garfunkel</td>\n",
       "    </tr>\n",
       "    <tr>\n",
       "      <th>1</th>\n",
       "      <td>1971</td>\n",
       "      <td>Three Dog Night</td>\n",
       "      <td>1.0</td>\n",
       "      <td>Joy to the World (Hoyt Axton song)</td>\n",
       "      <td>/wiki/Joy_to_the_World_(Hoyt_Axton_song)</td>\n",
       "      <td>/wiki/Three_Dog_Night</td>\n",
       "    </tr>\n",
       "    <tr>\n",
       "      <th>2</th>\n",
       "      <td>1972</td>\n",
       "      <td>Roberta Flack</td>\n",
       "      <td>1.0</td>\n",
       "      <td>The First Time Ever I Saw Your Face</td>\n",
       "      <td>/wiki/The_First_Time_Ever_I_Saw_Your_Face</td>\n",
       "      <td>/wiki/Roberta_Flack</td>\n",
       "    </tr>\n",
       "    <tr>\n",
       "      <th>3</th>\n",
       "      <td>1973</td>\n",
       "      <td>Tony Orlando and Dawn</td>\n",
       "      <td>1.0</td>\n",
       "      <td>Tie a Yellow Ribbon Round the Ole Oak Tree</td>\n",
       "      <td>/wiki/Tie_a_Yellow_Ribbon_Round_the_Ole_Oak_Tree</td>\n",
       "      <td>/wiki/Tony_Orlando_and_Dawn</td>\n",
       "    </tr>\n",
       "    <tr>\n",
       "      <th>4</th>\n",
       "      <td>1974</td>\n",
       "      <td>Barbra Streisand</td>\n",
       "      <td>1.0</td>\n",
       "      <td>The Way We Were (song)</td>\n",
       "      <td>/wiki/The_Way_We_Were_(song)</td>\n",
       "      <td>/wiki/Barbra_Streisand</td>\n",
       "    </tr>\n",
       "  </tbody>\n",
       "</table>\n",
       "</div>"
      ],
      "text/plain": [
       "   year            band_singer  ranking                                        song                                           songurl                          url\n",
       "0  1970      Simon & Garfunkel      1.0           Bridge Over Troubled Water (song)           /wiki/Bridge_Over_Troubled_Water_(song)    /wiki/Simon_%26_Garfunkel\n",
       "1  1971        Three Dog Night      1.0          Joy to the World (Hoyt Axton song)          /wiki/Joy_to_the_World_(Hoyt_Axton_song)        /wiki/Three_Dog_Night\n",
       "2  1972          Roberta Flack      1.0         The First Time Ever I Saw Your Face         /wiki/The_First_Time_Ever_I_Saw_Your_Face          /wiki/Roberta_Flack\n",
       "3  1973  Tony Orlando and Dawn      1.0  Tie a Yellow Ribbon Round the Ole Oak Tree  /wiki/Tie_a_Yellow_Ribbon_Round_the_Ole_Oak_Tree  /wiki/Tony_Orlando_and_Dawn\n",
       "4  1974       Barbra Streisand      1.0                      The Way We Were (song)                      /wiki/The_Way_We_Were_(song)       /wiki/Barbra_Streisand"
      ]
     },
     "execution_count": 108,
     "metadata": {},
     "output_type": "execute_result"
    }
   ],
   "source": [
    "# must run code above to run this chunk\n",
    "flatframe = flatframe.rename(columns={'minor':'year'})\n",
    "del flatframe['major']\n",
    "flatframe.head()"
   ]
  },
  {
   "cell_type": "code",
   "execution_count": 54,
   "metadata": {},
   "outputs": [
    {
     "data": {
      "text/plain": [
       "year            object\n",
       "band_singer     object\n",
       "ranking        float64\n",
       "song            object\n",
       "songurl         object\n",
       "url             object\n",
       "dtype: object"
      ]
     },
     "execution_count": 54,
     "metadata": {},
     "output_type": "execute_result"
    }
   ],
   "source": [
    "flatframe.dtypes"
   ]
  },
  {
   "cell_type": "markdown",
   "metadata": {},
   "source": [
    "#### Type Conversion\n",
    "The year field is not integer but type object due to conversions. So I used astype to convert the year entries to int"
   ]
  },
  {
   "cell_type": "code",
   "execution_count": 19,
   "metadata": {},
   "outputs": [
    {
     "data": {
      "text/plain": [
       "year             int64\n",
       "band_singer     object\n",
       "ranking        float64\n",
       "song            object\n",
       "songurl         object\n",
       "url             object\n",
       "dtype: object"
      ]
     },
     "execution_count": 19,
     "metadata": {},
     "output_type": "execute_result"
    }
   ],
   "source": [
    "flatframe.year = flatframe.year.astype(int)\n",
    "flatframe.dtypes"
   ]
  },
  {
   "cell_type": "markdown",
   "metadata": {},
   "source": [
    "### Data Statistical Summary"
   ]
  },
  {
   "cell_type": "code",
   "execution_count": 90,
   "metadata": {},
   "outputs": [
    {
     "data": {
      "text/html": [
       "<div>\n",
       "<style scoped>\n",
       "    .dataframe tbody tr th:only-of-type {\n",
       "        vertical-align: middle;\n",
       "    }\n",
       "\n",
       "    .dataframe tbody tr th {\n",
       "        vertical-align: top;\n",
       "    }\n",
       "\n",
       "    .dataframe thead th {\n",
       "        text-align: right;\n",
       "    }\n",
       "</style>\n",
       "<table border=\"1\" class=\"dataframe\">\n",
       "  <thead>\n",
       "    <tr style=\"text-align: right;\">\n",
       "      <th></th>\n",
       "      <th>ranking</th>\n",
       "    </tr>\n",
       "  </thead>\n",
       "  <tbody>\n",
       "    <tr>\n",
       "      <th>count</th>\n",
       "      <td>5812.000000</td>\n",
       "    </tr>\n",
       "    <tr>\n",
       "      <th>mean</th>\n",
       "      <td>49.796456</td>\n",
       "    </tr>\n",
       "    <tr>\n",
       "      <th>std</th>\n",
       "      <td>28.776563</td>\n",
       "    </tr>\n",
       "    <tr>\n",
       "      <th>min</th>\n",
       "      <td>1.000000</td>\n",
       "    </tr>\n",
       "    <tr>\n",
       "      <th>25%</th>\n",
       "      <td>25.000000</td>\n",
       "    </tr>\n",
       "    <tr>\n",
       "      <th>50%</th>\n",
       "      <td>49.000000</td>\n",
       "    </tr>\n",
       "    <tr>\n",
       "      <th>75%</th>\n",
       "      <td>75.000000</td>\n",
       "    </tr>\n",
       "    <tr>\n",
       "      <th>max</th>\n",
       "      <td>100.000000</td>\n",
       "    </tr>\n",
       "  </tbody>\n",
       "</table>\n",
       "</div>"
      ],
      "text/plain": [
       "           ranking\n",
       "count  5812.000000\n",
       "mean     49.796456\n",
       "std      28.776563\n",
       "min       1.000000\n",
       "25%      25.000000\n",
       "50%      49.000000\n",
       "75%      75.000000\n",
       "max     100.000000"
      ]
     },
     "execution_count": 90,
     "metadata": {},
     "output_type": "execute_result"
    }
   ],
   "source": [
    "flatframe.describe()"
   ]
  },
  {
   "cell_type": "code",
   "execution_count": 99,
   "metadata": {},
   "outputs": [
    {
     "data": {
      "text/plain": [
       "count                     5812\n",
       "unique                    4550\n",
       "top       Forever (Drake song)\n",
       "freq                         8\n",
       "Name: song, dtype: object"
      ]
     },
     "execution_count": 99,
     "metadata": {},
     "output_type": "execute_result"
    }
   ],
   "source": [
    "flatframe.song.describe()"
   ]
  },
  {
   "cell_type": "code",
   "execution_count": 92,
   "metadata": {},
   "outputs": [
    {
     "data": {
      "text/plain": [
       "count              5812\n",
       "unique             2072\n",
       "top       /wiki/Rihanna\n",
       "freq                 45\n",
       "Name: url, dtype: object"
      ]
     },
     "execution_count": 92,
     "metadata": {},
     "output_type": "execute_result"
    }
   ],
   "source": [
    "flatframe.url.describe()"
   ]
  },
  {
   "cell_type": "markdown",
   "metadata": {},
   "source": [
    "### Statistical Summary \n",
    "1. Total number of songs: 5812\n",
    "2. Total number of unique songs: 4550\n",
    "2. Total number of artists/bands: 2072"
   ]
  },
  {
   "cell_type": "markdown",
   "metadata": {},
   "source": [
    "### Visualization"
   ]
  },
  {
   "cell_type": "markdown",
   "metadata": {},
   "source": [
    "I now create a bar chart to determine the artists/band whose songs have been featured maximum number of times on the Top 100 list from years 1970 to 2018.If a singer appeared twice in a year (for different songs), this has been counted as two appearances.\n",
    "\n",
    "To count the total number of songs of one singer in the entire dataframe, only one unique element is available i.e. the url giving singer name. I use `value_counts` from pandas to count the urls appearing in the `flatframe` and this in turn gives the number of times a particular singer's songs have made it to the Top 100 list. \n",
    "\n",
    "Below is the bar chart of artists/bands who have appeared more than 25 times on Top 100 list."
   ]
  },
  {
   "cell_type": "markdown",
   "metadata": {},
   "source": [
    "### Visualization based on number of songs featured"
   ]
  },
  {
   "cell_type": "code",
   "execution_count": 66,
   "metadata": {},
   "outputs": [
    {
     "data": {
      "image/png": "[encoded data removed]",
      "text/plain": [
       "<matplotlib.figure.Figure at 0x7fd1a81228d0>"
      ]
     },
     "metadata": {},
     "output_type": "display_data"
    }
   ],
   "source": [
    "top_artist=flatframe.url.value_counts()\n",
    "top_artist[top_artist>25].plot(kind=\"barh\");"
   ]
  },
  {
   "cell_type": "code",
   "execution_count": 109,
   "metadata": {},
   "outputs": [
    {
     "data": {
      "text/plain": [
       "/wiki/Rihanna                  45\n",
       "/wiki/Madonna_(entertainer)    36\n",
       "/wiki/Lil_Wayne                35\n",
       "/wiki/Mariah_Carey             34\n",
       "/wiki/Drake_(musician)         33\n",
       "/wiki/Elton_John               30\n",
       "/wiki/Janet_Jackson            29\n",
       "/wiki/Ludacris                 29\n",
       "/wiki/R._Kelly                 28\n",
       "/wiki/Nicki_Minaj              28\n",
       "Name: url, dtype: int64"
      ]
     },
     "execution_count": 109,
     "metadata": {},
     "output_type": "execute_result"
    }
   ],
   "source": [
    "top_artist[0:10] # Top ten ranks\n",
    "# artist name with total number of songs depicted as I run this cell"
   ]
  },
  {
   "cell_type": "markdown",
   "metadata": {},
   "source": [
    "### Description of Data Visualised\n",
    "As per the above bar chart:\n",
    "\n",
    "1. Rihana is the top artist who has been featured 45 times\n",
    "2. Madonna is on second rank who has been featured 36 times\n",
    "3. Lil Wayne is on third rank with 35 songs\n",
    "4. Drake is on fourth rank with 33 songs\n",
    "5. Both R.Kelly and Nicki Minaj have 28 songs "
   ]
  },
  {
   "cell_type": "markdown",
   "metadata": {},
   "source": [
    " ### Using Feature Engineering for Alternate Analysis\n",
    "Both R.Kelly and Nicki Minaj have 28 songs in the Top 100 list. To determine who can be considered higher in rank of artists, I am also taking into consideration the rank of all 28 songs of each of the two singers, because the artist whose songs have gained more high ranking should be considered the better artist based on this analysis."
   ]
  },
  {
   "cell_type": "markdown",
   "metadata": {},
   "source": [
    "To do this, I group all of one singer's songs together and assign each song a score 101 - ranking (using the ranking from flatframe) to create a feature called `scores` and then order the singers by their total score and make a bar chart for the top 10 ranks based on scores"
   ]
  },
  {
   "cell_type": "markdown",
   "metadata": {},
   "source": [
    "### Visualisation based on ranking of songs featured"
   ]
  },
  {
   "cell_type": "code",
   "execution_count": 110,
   "metadata": {},
   "outputs": [
    {
     "data": {
      "image/png": "[encoded data removed]",
      "text/plain": [
       "<matplotlib.figure.Figure at 0x7fd1a8b41860>"
      ]
     },
     "metadata": {},
     "output_type": "display_data"
    }
   ],
   "source": [
    "scores = flatframe.groupby('url').apply(lambda v: np.sum(101 - v['ranking']))\n",
    "scores= scores.sort_values(ascending=False)\n",
    "scores[:10].plot(kind=\"barh\");"
   ]
  },
  {
   "cell_type": "code",
   "execution_count": 112,
   "metadata": {},
   "outputs": [
    {
     "data": {
      "text/plain": [
       "url\n",
       "/wiki/Rihanna                  2760.0\n",
       "/wiki/Mariah_Carey             2290.0\n",
       "/wiki/Drake_(musician)         1969.0\n",
       "/wiki/Madonna_(entertainer)    1888.0\n",
       "/wiki/Janet_Jackson            1886.0\n",
       "/wiki/Elton_John               1775.0\n",
       "/wiki/Lil_Wayne                1723.0\n",
       "/wiki/Whitney_Houston          1491.0\n",
       "/wiki/Michael_Jackson          1453.0\n",
       "/wiki/Taylor_Swift             1438.0\n",
       "/wiki/Ludacris                 1429.0\n",
       "/wiki/Jay-Z                    1417.0\n",
       "/wiki/Maroon_5                 1353.0\n",
       "/wiki/Justin_Timberlake        1351.0\n",
       "/wiki/Bruno_Mars               1342.0\n",
       "/wiki/Nicki_Minaj              1337.0\n",
       "/wiki/Kanye_West               1322.0\n",
       "/wiki/Katy_Perry               1319.0\n",
       "/wiki/Pink_(singer)            1226.0\n",
       "/wiki/Chris_Brown              1150.0\n",
       "/wiki/Nelly                    1134.0\n",
       "/wiki/Stevie_Wonder            1131.0\n",
       "/wiki/Justin_Bieber            1106.0\n",
       "/wiki/Akon                     1086.0\n",
       "/wiki/Sean_Combs               1068.0\n",
       "/wiki/R._Kelly                 1023.0\n",
       "/wiki/Alicia_Keys              1010.0\n",
       "/wiki/Eminem                    991.0\n",
       "/wiki/Hall_%26_Oates            984.0\n",
       "/wiki/50_Cent                   982.0\n",
       "dtype: float64"
      ]
     },
     "execution_count": 112,
     "metadata": {},
     "output_type": "execute_result"
    }
   ],
   "source": [
    "scores[0:30]\n",
    "#Depicts name of the artist and total score calculated by summing individual score of each song"
   ]
  },
  {
   "cell_type": "markdown",
   "metadata": {},
   "source": [
    "### Description of Data Visualised\n",
    "As per the above bar chart for alternate analysis:\n",
    "\n",
    "1. Rihanna is still the top artist whose songs generate a total score of 2760\n",
    "2. Maria Carie is on second rank contrary to Madonna in first visualisation as she has a score of 2290 despite having only 34 songs\n",
    "3. Nicki Minaj ranks way ahead of R.Kelly \n"
   ]
  },
  {
   "cell_type": "markdown",
   "metadata": {},
   "source": [
    "### Outliers\n",
    "\n",
    "The analysis being such that rankings are to be generated, offer no scope of using outliers concept as entire data is needed to be considered."
   ]
  },
  {
   "cell_type": "markdown",
   "metadata": {},
   "source": [
    "### Conclusion\n",
    "\n",
    "Based on different metrics, we receive different ranking for artists. However, under both analysis, Rihanna is the top artist. The project offered scope to utilize all skills of EDA and include many other features and complexity as more and more data could be incorporated from url links and vastness of Wikipedia content such as Age of Artists."
   ]
  },
  {
   "cell_type": "markdown",
   "metadata": {},
   "source": [
    "### Literature Review\n",
    "\n",
    "Wikipedia is often used for various kinds of analysis and interesting studies conducted for professional reading content generators such as Business Insider and other magazines. The novelty of this project lies in the question based on different metrics and that this project can be used continuously every year to determine the rankings of artists or bands by incorporating data of coming years as it is made available on Wikipedia."
   ]
  }
 ],
 "metadata": {
  "kernelspec": {
   "display_name": "Python 3",
   "language": "python",
   "name": "python3"
  },
  "language_info": {
   "codemirror_mode": {
    "name": "ipython",
    "version": 3
   },
   "file_extension": ".py",
   "mimetype": "text/x-python",
   "name": "python",
   "nbconvert_exporter": "python",
   "pygments_lexer": "ipython3",
   "version": "3.6.7"
  }
 },
 "nbformat": 4,
 "nbformat_minor": 1
}
